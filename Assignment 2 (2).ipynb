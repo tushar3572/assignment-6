{
 "cells": [
  {
   "cell_type": "code",
   "execution_count": null,
   "id": "294b3c5b-8474-4762-b40b-db4d98dd9c13",
   "metadata": {},
   "outputs": [],
   "source": [
    "                #Answer:1\n",
    "    \n",
    "    A class is considered as a blueprint of objects. We can think of the class as a sketch (prototype) of a house.\n",
    "    It contains all the details about the floors, doors, windows, etc. \n",
    "    Based on these descriptions we build the house. House is the object.\n",
    "    \n",
    "    Example:\n",
    "        class Bike:\n",
    "            name = \"\"\n",
    "            gear = 0\n",
    "            \n",
    "    An object is called an instance of a class. \n",
    "    For example, suppose Bike is a class then we can create objects like bike1, bike2, etc from the class. \n",
    "    \n",
    "    Example:\n",
    "        # create class\n",
    "        class Bike:\n",
    "            name = \"\"\n",
    "            gear = 0\n",
    "\n",
    "  # create objects of class\n",
    "      bike1 = Bike()"
   ]
  },
  {
   "cell_type": "code",
   "execution_count": null,
   "id": "dae8b61e-593f-420a-820b-276e40192966",
   "metadata": {},
   "outputs": [],
   "source": [
    "               #Answer:2\n",
    "\n",
    "The Four Pillars of Object Oriented Programming are:\n",
    "\n",
    "1. Abstraction.\n",
    "2. Encapsulation.\n",
    "3. Inheritance.\n",
    "4. Polymorphism."
   ]
  },
  {
   "cell_type": "code",
   "execution_count": null,
   "id": "25456086-5ba6-4856-8993-c977f15f4fad",
   "metadata": {},
   "outputs": [],
   "source": [
    "              #Answer:3\n",
    "    \n",
    "    The __init__() function is commonly used to define and initialize the instance variables (attributes) of an object.\n",
    "    It allows you to specify the initial values for these attributes when creating a new instance of the class. \n",
    "    This helps ensure that the object is in a valid and usable state right from the start.\n",
    "\n",
    "        "
   ]
  },
  {
   "cell_type": "code",
   "execution_count": 1,
   "id": "97a7cc56-a3df-45c5-81f8-56f106abcea9",
   "metadata": {},
   "outputs": [
    {
     "name": "stdout",
     "output_type": "stream",
     "text": [
      "I ran first\n",
      "I ran second\n",
      "Name: Audi R8\n"
     ]
    }
   ],
   "source": [
    "#Example:\n",
    "\n",
    "class Car:\n",
    "    def __init__(self, name):\n",
    "        self.name = name\n",
    "        print(\"I ran first\")\n",
    " \n",
    "    def product(self):\n",
    "        print(\"I ran second\")\n",
    "        return (\"Name: \" + self.name)\n",
    " \n",
    " \n",
    "C = Car('Audi R8')\n",
    "print(C.product())\n"
   ]
  },
  {
   "cell_type": "code",
   "execution_count": null,
   "id": "1d9ee366-df57-4c9e-a613-d7aaceaf5bbd",
   "metadata": {},
   "outputs": [],
   "source": [
    "             #Answer:4\n",
    "    \n",
    "    The self variable is used to represent the instance of the class which is often used in object-oriented programming.\n",
    "    It works as a reference to the object.\n",
    "    Python uses the self parameter to refer to instance attributes and methods of the class.\n",
    "    "
   ]
  },
  {
   "cell_type": "code",
   "execution_count": null,
   "id": "fedba13a-deb1-4ed0-ba12-d1577cc77dd3",
   "metadata": {},
   "outputs": [],
   "source": [
    "              #Answer:5\n",
    "    \n",
    "    Inheritance is a mechanism in which one class acquires the property of another class.\n",
    "    For example, a child inherits the traits of his/her parents.\n",
    "    With inheritance, we can reuse the fields and methods of the existing class.\n",
    "    "
   ]
  },
  {
   "cell_type": "code",
   "execution_count": 2,
   "id": "391f1e32-9e71-4869-af53-cd2725084a05",
   "metadata": {},
   "outputs": [
    {
     "name": "stdout",
     "output_type": "stream",
     "text": [
      "This function is in parent class.\n",
      "This function is in child class.\n"
     ]
    }
   ],
   "source": [
    "# single inheritance\n",
    " \n",
    "# Base class\n",
    "class Parent:\n",
    "    def func1(self):\n",
    "        print(\"This function is in parent class.\")\n",
    " \n",
    "# Derived class\n",
    " \n",
    " \n",
    "class Child(Parent):\n",
    "    def func2(self):\n",
    "        print(\"This function is in child class.\")\n",
    " \n",
    " \n",
    "# Driver's code\n",
    "object = Child()\n",
    "object.func1()\n",
    "object.func2()"
   ]
  },
  {
   "cell_type": "code",
   "execution_count": 4,
   "id": "66384759-7482-4d33-b6e0-7e3826f33378",
   "metadata": {},
   "outputs": [
    {
     "name": "stdout",
     "output_type": "stream",
     "text": [
      "Father : RAM\n",
      "Mother : SITA\n"
     ]
    }
   ],
   "source": [
    "\n",
    "# multiple inheritance\n",
    "\n",
    "# Base class1\n",
    "class Mother:\n",
    "\tmothername = \"\"\n",
    "\n",
    "\tdef mother(self):\n",
    "\t\tprint(self.mothername)\n",
    "\n",
    "# Base class2\n",
    "\n",
    "\n",
    "class Father:\n",
    "\tfathername = \"\"\n",
    "\n",
    "\tdef father(self):\n",
    "\t\tprint(self.fathername)\n",
    "\n",
    "# Derived class\n",
    "\n",
    "\n",
    "class Son(Mother, Father):\n",
    "\tdef parents(self):\n",
    "\t\tprint(\"Father :\", self.fathername)\n",
    "\t\tprint(\"Mother :\", self.mothername)\n",
    "\n",
    "\n",
    "# Driver's code\n",
    "s1 = Son()\n",
    "s1.fathername = \"RAM\"\n",
    "s1.mothername = \"SITA\"\n",
    "s1.parents()\n"
   ]
  },
  {
   "cell_type": "code",
   "execution_count": 5,
   "id": "776d1bfc-0ef6-47a6-9eb2-5d03e166fe36",
   "metadata": {},
   "outputs": [
    {
     "name": "stdout",
     "output_type": "stream",
     "text": [
      "Lal mani\n",
      "Grandfather name : Lal mani\n",
      "Father name : Rampal\n",
      "Son name : Prince\n"
     ]
    }
   ],
   "source": [
    "\n",
    "# multilevel inheritance\n",
    "\n",
    "# Base class\n",
    "\n",
    "\n",
    "class Grandfather:\n",
    "\n",
    "\tdef __init__(self, grandfathername):\n",
    "\t\tself.grandfathername = grandfathername\n",
    "\n",
    "# Intermediate class\n",
    "\n",
    "\n",
    "class Father(Grandfather):\n",
    "\tdef __init__(self, fathername, grandfathername):\n",
    "\t\tself.fathername = fathername\n",
    "\n",
    "\t\t# invoking constructor of Grandfather class\n",
    "\t\tGrandfather.__init__(self, grandfathername)\n",
    "\n",
    "# Derived class\n",
    "\n",
    "\n",
    "class Son(Father):\n",
    "\tdef __init__(self, sonname, fathername, grandfathername):\n",
    "\t\tself.sonname = sonname\n",
    "\n",
    "\t\t# invoking constructor of Father class\n",
    "\t\tFather.__init__(self, fathername, grandfathername)\n",
    "\n",
    "\tdef print_name(self):\n",
    "\t\tprint('Grandfather name :', self.grandfathername)\n",
    "\t\tprint(\"Father name :\", self.fathername)\n",
    "\t\tprint(\"Son name :\", self.sonname)\n",
    "\n",
    "\n",
    "# Driver code\n",
    "s1 = Son('Prince', 'Rampal', 'Lal mani')\n",
    "print(s1.grandfathername)\n",
    "s1.print_name()\n"
   ]
  },
  {
   "cell_type": "code",
   "execution_count": null,
   "id": "43e78dcc-58f9-486d-abb9-a77f51e165b1",
   "metadata": {},
   "outputs": [],
   "source": []
  }
 ],
 "metadata": {
  "kernelspec": {
   "display_name": "Python 3 (ipykernel)",
   "language": "python",
   "name": "python3"
  },
  "language_info": {
   "codemirror_mode": {
    "name": "ipython",
    "version": 3
   },
   "file_extension": ".py",
   "mimetype": "text/x-python",
   "name": "python",
   "nbconvert_exporter": "python",
   "pygments_lexer": "ipython3",
   "version": "3.10.8"
  }
 },
 "nbformat": 4,
 "nbformat_minor": 5
}
